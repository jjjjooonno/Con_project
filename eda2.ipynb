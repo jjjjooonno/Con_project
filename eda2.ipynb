{
 "cells": [
  {
   "cell_type": "code",
   "execution_count": 1,
   "metadata": {
    "collapsed": true
   },
   "outputs": [],
   "source": [
    "from pandas import *\n",
    "dt = read_excel('cleaned_data0305.xlsx')"
   ]
  },
  {
   "cell_type": "code",
   "execution_count": 2,
   "metadata": {},
   "outputs": [
    {
     "data": {
      "text/plain": [
       "array([   1,   32,   26,   22,   24,   12,   10,   59,   37,   44,   29,\n         45,   46,   25,    2,   66,   35,   28,    4,  210,  100,    5,\n          3,   79,   72,   15,    6,   70,   55,   39,   48,   60,   18,\n         34,   36,   40,   74,   49,   50,   56,    9,   30,   27,   43,\n         23,   68,   61,   52,   64,   67,   54,   65,   47,   71,   51,\n         14,   57,   73,   80,   75,   42,   78,   31,   38,   17,   58,\n         53,   16,   41,    8,   33,   63,   20,   62,   21,   69,    7,\n         13,   19,   76,   85,   77,   11,   82,   81,   89,   86,   84,\n         91,   87,   90,   83,   88,   93,   92,  300,   96,   95,   94,\n       1145,   99,   98,   97,    0,  449])"
      ]
     },
     "execution_count": 2,
     "metadata": {},
     "output_type": "execute_result"
    }
   ],
   "source": [
    "unique(dt['cleaned_age'])"
   ]
  },
  {
   "cell_type": "code",
   "execution_count": 3,
   "metadata": {},
   "outputs": [],
   "source": [
    "dt_new = dt.loc[dt['cleaned_age']<100,]"
   ]
  },
  {
   "cell_type": "code",
   "execution_count": 4,
   "metadata": {},
   "outputs": [],
   "source": [
    "dt_new.to_excel('cleaned_data0305.xlsx')"
   ]
  },
  {
   "cell_type": "code",
   "execution_count": null,
   "metadata": {},
   "outputs": [],
   "source": []
  }
 ],
 "metadata": {
  "kernelspec": {
   "display_name": "Python 2",
   "language": "python",
   "name": "python2"
  },
  "language_info": {
   "codemirror_mode": {
    "name": "ipython",
    "version": 2
   },
   "file_extension": ".py",
   "mimetype": "text/x-python",
   "name": "python",
   "nbconvert_exporter": "python",
   "pygments_lexer": "ipython2",
   "version": "2.7.6"
  }
 },
 "nbformat": 4,
 "nbformat_minor": 0
}
